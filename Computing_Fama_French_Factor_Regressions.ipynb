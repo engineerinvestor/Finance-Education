{
  "nbformat": 4,
  "nbformat_minor": 0,
  "metadata": {
    "colab": {
      "provenance": []
    },
    "kernelspec": {
      "name": "python3",
      "display_name": "Python 3"
    },
    "language_info": {
      "name": "python"
    }
  },
  "cells": [
    {
      "cell_type": "markdown",
      "source": [
        "# Computing Fama-French Factor Regressions\n",
        "\n",
        "Name: Engineer Investor (@egr_investor)\n",
        "\n",
        "Date: 04/09/24"
      ],
      "metadata": {
        "id": "-l6605plv6at"
      }
    },
    {
      "cell_type": "markdown",
      "source": [
        "In this tutorial, we will learn how to compute the Fama-French five-factor model regressions for stock ETFs and mutual funds using Python. The Fama-French five-factor model is an asset pricing model that expands on the CAPM to include size, value, profitability, and investment factors in addition to the market risk factor. We abbreviate the factors in the the Fama-French five factor model with market, size, value, profitability, and investment factors as MKT, SMB, HML, RMW, CMA, respectively. According to Portfolio Visualizer, the multiple linear regression indicates how well the returns of the given assets or a portfolio are explained by the risk factor exposures.\n",
        "\n",
        "We'll also learn how to download the factor data from Ken French’s website using Python, and use the yfinance API to get stock ETF and mutual fund data. Finally, we will perform the regressions and plot the results.\n",
        "\n",
        "Source:  https://www.portfoliovisualizer.com/factor-analysis\n",
        "\n",
        "## Fama-French Five Factor Model\n",
        "\n",
        "The Fama-French five-factor model is an extension of the Fama-French three-factor model, including two additional factors to better explain the returns of stocks. It can be represented as follows:\n",
        "\n",
        "\n",
        "$R_{i,t} - R_{f,t} = \\alpha_i + \\beta_{mkt}(R_{mkt,t} - R_{f,t}) + \\beta_{SMB}SMB_t + \\beta_{HML}HML_t + \\beta_{RMW}RMW_t + \\beta_{CMA}CMA_t + \\epsilon_{i,t}$\n",
        "\n",
        "Where:\n",
        "\n",
        "- $R_{i,t} - R_{f,t}$ is the excess return of asset $i$ at time $t$ over the risk-free rate.\n",
        "- $\\alpha_i$ is the asset's alpha or abnormal return that cannot be explained by the model.\n",
        "- $\\beta_{mkt}$, $\\beta_{SMB}$, $\\beta_{HML}$, $\\beta_{RMW}$, and $\\beta_{CMA}$ are the sensitivities of the excess return to the respective factors.\n",
        "- $R_{mkt,t} - R_{f,t}$ is the market excess return at time $t$.\n",
        "- $SMB_t$ (Small Minus Big) is the size premium, or the return on a portfolio of small stocks minus the return on a portfolio of big stocks.\n",
        "- $HML_t$ (High Minus Low) is the value premium, or the return on a portfolio of high book-to-market stocks minus the return on a portfolio of low book-to-market stocks.\n",
        "- $RMW_t$ (Robust Minus Weak) is the profitability premium, or the return on a portfolio of stocks with robust (high) operating profitability minus the return on a portfolio of stocks with weak (low) operating profitability.\n",
        "- $CMA_t$ (Conservative Minus Aggressive) is the investment factor, or the return on a portfolio of stocks of companies with conservative investment policies minus the return on a portfolio of stocks of companies with aggressive investment policies.\n",
        "- $\\epsilon_{i,t}$ is the error term or idiosyncratic risk of asset $i$ at time $t$.\n",
        "\n",
        "Descriptions of each factor: https://mba.tuck.dartmouth.edu/pages/faculty/ken.french/data_library/f-f_factors.html\n",
        "\n",
        "## Step 1: Setting Up Your Environment\n",
        "First, ensure you have Python installed on your system. Then, you need to install the necessary libraries. You can do this by running the following command:"
      ],
      "metadata": {
        "id": "sxNFJEBav0Lb"
      }
    },
    {
      "cell_type": "code",
      "execution_count": 207,
      "metadata": {
        "colab": {
          "base_uri": "https://localhost:8080/"
        },
        "id": "LY1xAB-pvxNE",
        "outputId": "bc280f2d-a422-494f-ab8a-e62daaa0c7ac"
      },
      "outputs": [
        {
          "output_type": "stream",
          "name": "stdout",
          "text": [
            "Requirement already satisfied: yfinance in /usr/local/lib/python3.10/dist-packages (0.2.37)\n",
            "Requirement already satisfied: pandas in /usr/local/lib/python3.10/dist-packages (2.0.3)\n",
            "Requirement already satisfied: numpy in /usr/local/lib/python3.10/dist-packages (1.25.2)\n",
            "Requirement already satisfied: statsmodels in /usr/local/lib/python3.10/dist-packages (0.14.1)\n",
            "Requirement already satisfied: matplotlib in /usr/local/lib/python3.10/dist-packages (3.7.1)\n",
            "Requirement already satisfied: requests>=2.31 in /usr/local/lib/python3.10/dist-packages (from yfinance) (2.31.0)\n",
            "Requirement already satisfied: multitasking>=0.0.7 in /usr/local/lib/python3.10/dist-packages (from yfinance) (0.0.11)\n",
            "Requirement already satisfied: lxml>=4.9.1 in /usr/local/lib/python3.10/dist-packages (from yfinance) (4.9.4)\n",
            "Requirement already satisfied: appdirs>=1.4.4 in /usr/local/lib/python3.10/dist-packages (from yfinance) (1.4.4)\n",
            "Requirement already satisfied: pytz>=2022.5 in /usr/local/lib/python3.10/dist-packages (from yfinance) (2023.4)\n",
            "Requirement already satisfied: frozendict>=2.3.4 in /usr/local/lib/python3.10/dist-packages (from yfinance) (2.4.1)\n",
            "Requirement already satisfied: peewee>=3.16.2 in /usr/local/lib/python3.10/dist-packages (from yfinance) (3.17.1)\n",
            "Requirement already satisfied: beautifulsoup4>=4.11.1 in /usr/local/lib/python3.10/dist-packages (from yfinance) (4.12.3)\n",
            "Requirement already satisfied: html5lib>=1.1 in /usr/local/lib/python3.10/dist-packages (from yfinance) (1.1)\n",
            "Requirement already satisfied: python-dateutil>=2.8.2 in /usr/local/lib/python3.10/dist-packages (from pandas) (2.8.2)\n",
            "Requirement already satisfied: tzdata>=2022.1 in /usr/local/lib/python3.10/dist-packages (from pandas) (2024.1)\n",
            "Requirement already satisfied: scipy!=1.9.2,>=1.4 in /usr/local/lib/python3.10/dist-packages (from statsmodels) (1.11.4)\n",
            "Requirement already satisfied: patsy>=0.5.4 in /usr/local/lib/python3.10/dist-packages (from statsmodels) (0.5.6)\n",
            "Requirement already satisfied: packaging>=21.3 in /usr/local/lib/python3.10/dist-packages (from statsmodels) (24.0)\n",
            "Requirement already satisfied: contourpy>=1.0.1 in /usr/local/lib/python3.10/dist-packages (from matplotlib) (1.2.1)\n",
            "Requirement already satisfied: cycler>=0.10 in /usr/local/lib/python3.10/dist-packages (from matplotlib) (0.12.1)\n",
            "Requirement already satisfied: fonttools>=4.22.0 in /usr/local/lib/python3.10/dist-packages (from matplotlib) (4.50.0)\n",
            "Requirement already satisfied: kiwisolver>=1.0.1 in /usr/local/lib/python3.10/dist-packages (from matplotlib) (1.4.5)\n",
            "Requirement already satisfied: pillow>=6.2.0 in /usr/local/lib/python3.10/dist-packages (from matplotlib) (9.4.0)\n",
            "Requirement already satisfied: pyparsing>=2.3.1 in /usr/local/lib/python3.10/dist-packages (from matplotlib) (3.1.2)\n",
            "Requirement already satisfied: soupsieve>1.2 in /usr/local/lib/python3.10/dist-packages (from beautifulsoup4>=4.11.1->yfinance) (2.5)\n",
            "Requirement already satisfied: six>=1.9 in /usr/local/lib/python3.10/dist-packages (from html5lib>=1.1->yfinance) (1.16.0)\n",
            "Requirement already satisfied: webencodings in /usr/local/lib/python3.10/dist-packages (from html5lib>=1.1->yfinance) (0.5.1)\n",
            "Requirement already satisfied: charset-normalizer<4,>=2 in /usr/local/lib/python3.10/dist-packages (from requests>=2.31->yfinance) (3.3.2)\n",
            "Requirement already satisfied: idna<4,>=2.5 in /usr/local/lib/python3.10/dist-packages (from requests>=2.31->yfinance) (3.6)\n",
            "Requirement already satisfied: urllib3<3,>=1.21.1 in /usr/local/lib/python3.10/dist-packages (from requests>=2.31->yfinance) (2.0.7)\n",
            "Requirement already satisfied: certifi>=2017.4.17 in /usr/local/lib/python3.10/dist-packages (from requests>=2.31->yfinance) (2024.2.2)\n"
          ]
        }
      ],
      "source": [
        "!pip install yfinance pandas numpy statsmodels matplotlib"
      ]
    },
    {
      "cell_type": "code",
      "source": [
        "import pandas as pd\n",
        "import matplotlib.pyplot as plt\n",
        "import yfinance as yf\n",
        "import statsmodels.api as sm\n",
        "import pickle\n",
        "import os"
      ],
      "metadata": {
        "id": "BA6bUK9qwU_4"
      },
      "execution_count": 208,
      "outputs": []
    },
    {
      "cell_type": "markdown",
      "source": [
        "## Step 2: Downloading Factor Data\n",
        "\n",
        "Ken French’s website provides historical factor data which we can use for our analysis. In this tutorial, we will only use U.S. equity factor data, but you can modify the code to download ex-U.S. or other asset factor data. We'll write a Python function to download this data:"
      ],
      "metadata": {
        "id": "b1BKPCGOwIuF"
      }
    },
    {
      "cell_type": "code",
      "source": [
        "def download_ff_factors():\n",
        "    url = \"http://mba.tuck.dartmouth.edu/pages/faculty/ken.french/ftp/F-F_Research_Data_5_Factors_2x3_daily_CSV.zip\"\n",
        "    factors = pd.read_csv(url, skiprows=3, index_col=0, parse_dates=True)\n",
        "    factors = factors.loc[factors.index != '']\n",
        "    factors.index = pd.to_datetime(factors.index, format='%Y%m%d')\n",
        "    factors = factors.apply(pd.to_numeric, errors='coerce').dropna()\n",
        "    factors.columns = ['Market', 'SMB', 'HML', 'RMW', 'CMA', 'RF']\n",
        "    return factors"
      ],
      "metadata": {
        "id": "3954Yy-DwD2r"
      },
      "execution_count": 209,
      "outputs": []
    },
    {
      "cell_type": "code",
      "source": [
        "# Functions to save and load df to Pickle\n",
        "def save_df_to_pickle(df, filename):\n",
        "  with open(filename, 'wb') as f:\n",
        "    pickle.dump(df, f)"
      ],
      "metadata": {
        "id": "XeZF3YdSEuIl"
      },
      "execution_count": 210,
      "outputs": []
    },
    {
      "cell_type": "code",
      "source": [
        "def load_df_from_pickle(filename):\n",
        "  with open(filename, 'rb') as f:\n",
        "    df = pickle.load(f)\n",
        "  return df"
      ],
      "metadata": {
        "id": "u66YHzIREW8R"
      },
      "execution_count": 211,
      "outputs": []
    },
    {
      "cell_type": "code",
      "source": [
        "# Check if the file exists\n",
        "if os.path.isfile('factors_FF5.pkl'):\n",
        "    # If the file exists, load the dataframe to pickle\n",
        "    factors = load_df_from_pickle('factors_FF5.pkl')\n",
        "\n",
        "    print('Found saved file.')\n",
        "else:\n",
        "    factors = download_ff_factors()\n",
        "\n",
        "    # If the file does not exist, save the dataframe to pickle\n",
        "    save_df_to_pickle(factors, 'factors_FF5.pkl')"
      ],
      "metadata": {
        "colab": {
          "base_uri": "https://localhost:8080/"
        },
        "id": "GD1mgSTaEfFn",
        "outputId": "b85ad240-3610-4dd7-84a8-b424b0f6e593"
      },
      "execution_count": 212,
      "outputs": [
        {
          "output_type": "stream",
          "name": "stdout",
          "text": [
            "Found saved file.\n"
          ]
        }
      ]
    },
    {
      "cell_type": "markdown",
      "source": [
        "### View the factor data"
      ],
      "metadata": {
        "id": "A6RLkcUzwZPt"
      }
    },
    {
      "cell_type": "code",
      "source": [
        "factors"
      ],
      "metadata": {
        "colab": {
          "base_uri": "https://localhost:8080/",
          "height": 424
        },
        "id": "sLSqbIl0wN5K",
        "outputId": "50a3036b-c701-49ad-bb5a-227506b08dc8"
      },
      "execution_count": 213,
      "outputs": [
        {
          "output_type": "execute_result",
          "data": {
            "text/plain": [
              "            Market   SMB   HML   RMW   CMA     RF\n",
              "1963-07-01   -0.67  0.02 -0.35  0.03  0.13  0.012\n",
              "1963-07-02    0.79 -0.28  0.28 -0.08 -0.21  0.012\n",
              "1963-07-03    0.63 -0.18 -0.10  0.13 -0.25  0.012\n",
              "1963-07-05    0.40  0.09 -0.28  0.07 -0.30  0.012\n",
              "1963-07-08   -0.63  0.07 -0.20 -0.27  0.06  0.012\n",
              "...            ...   ...   ...   ...   ...    ...\n",
              "2024-02-23    0.02  0.32 -0.03  0.09 -0.11  0.021\n",
              "2024-02-26   -0.26  0.97 -0.11 -0.74 -0.01  0.021\n",
              "2024-02-27    0.27  1.24 -0.45 -1.14  0.67  0.021\n",
              "2024-02-28   -0.26 -0.90  0.00 -0.05  0.53  0.021\n",
              "2024-02-29    0.54 -0.16  0.98  0.27 -0.73  0.021\n",
              "\n",
              "[15270 rows x 6 columns]"
            ],
            "text/html": [
              "\n",
              "  <div id=\"df-7373947e-97ff-4b06-ba70-fa50d9fc2c61\" class=\"colab-df-container\">\n",
              "    <div>\n",
              "<style scoped>\n",
              "    .dataframe tbody tr th:only-of-type {\n",
              "        vertical-align: middle;\n",
              "    }\n",
              "\n",
              "    .dataframe tbody tr th {\n",
              "        vertical-align: top;\n",
              "    }\n",
              "\n",
              "    .dataframe thead th {\n",
              "        text-align: right;\n",
              "    }\n",
              "</style>\n",
              "<table border=\"1\" class=\"dataframe\">\n",
              "  <thead>\n",
              "    <tr style=\"text-align: right;\">\n",
              "      <th></th>\n",
              "      <th>Market</th>\n",
              "      <th>SMB</th>\n",
              "      <th>HML</th>\n",
              "      <th>RMW</th>\n",
              "      <th>CMA</th>\n",
              "      <th>RF</th>\n",
              "    </tr>\n",
              "  </thead>\n",
              "  <tbody>\n",
              "    <tr>\n",
              "      <th>1963-07-01</th>\n",
              "      <td>-0.67</td>\n",
              "      <td>0.02</td>\n",
              "      <td>-0.35</td>\n",
              "      <td>0.03</td>\n",
              "      <td>0.13</td>\n",
              "      <td>0.012</td>\n",
              "    </tr>\n",
              "    <tr>\n",
              "      <th>1963-07-02</th>\n",
              "      <td>0.79</td>\n",
              "      <td>-0.28</td>\n",
              "      <td>0.28</td>\n",
              "      <td>-0.08</td>\n",
              "      <td>-0.21</td>\n",
              "      <td>0.012</td>\n",
              "    </tr>\n",
              "    <tr>\n",
              "      <th>1963-07-03</th>\n",
              "      <td>0.63</td>\n",
              "      <td>-0.18</td>\n",
              "      <td>-0.10</td>\n",
              "      <td>0.13</td>\n",
              "      <td>-0.25</td>\n",
              "      <td>0.012</td>\n",
              "    </tr>\n",
              "    <tr>\n",
              "      <th>1963-07-05</th>\n",
              "      <td>0.40</td>\n",
              "      <td>0.09</td>\n",
              "      <td>-0.28</td>\n",
              "      <td>0.07</td>\n",
              "      <td>-0.30</td>\n",
              "      <td>0.012</td>\n",
              "    </tr>\n",
              "    <tr>\n",
              "      <th>1963-07-08</th>\n",
              "      <td>-0.63</td>\n",
              "      <td>0.07</td>\n",
              "      <td>-0.20</td>\n",
              "      <td>-0.27</td>\n",
              "      <td>0.06</td>\n",
              "      <td>0.012</td>\n",
              "    </tr>\n",
              "    <tr>\n",
              "      <th>...</th>\n",
              "      <td>...</td>\n",
              "      <td>...</td>\n",
              "      <td>...</td>\n",
              "      <td>...</td>\n",
              "      <td>...</td>\n",
              "      <td>...</td>\n",
              "    </tr>\n",
              "    <tr>\n",
              "      <th>2024-02-23</th>\n",
              "      <td>0.02</td>\n",
              "      <td>0.32</td>\n",
              "      <td>-0.03</td>\n",
              "      <td>0.09</td>\n",
              "      <td>-0.11</td>\n",
              "      <td>0.021</td>\n",
              "    </tr>\n",
              "    <tr>\n",
              "      <th>2024-02-26</th>\n",
              "      <td>-0.26</td>\n",
              "      <td>0.97</td>\n",
              "      <td>-0.11</td>\n",
              "      <td>-0.74</td>\n",
              "      <td>-0.01</td>\n",
              "      <td>0.021</td>\n",
              "    </tr>\n",
              "    <tr>\n",
              "      <th>2024-02-27</th>\n",
              "      <td>0.27</td>\n",
              "      <td>1.24</td>\n",
              "      <td>-0.45</td>\n",
              "      <td>-1.14</td>\n",
              "      <td>0.67</td>\n",
              "      <td>0.021</td>\n",
              "    </tr>\n",
              "    <tr>\n",
              "      <th>2024-02-28</th>\n",
              "      <td>-0.26</td>\n",
              "      <td>-0.90</td>\n",
              "      <td>0.00</td>\n",
              "      <td>-0.05</td>\n",
              "      <td>0.53</td>\n",
              "      <td>0.021</td>\n",
              "    </tr>\n",
              "    <tr>\n",
              "      <th>2024-02-29</th>\n",
              "      <td>0.54</td>\n",
              "      <td>-0.16</td>\n",
              "      <td>0.98</td>\n",
              "      <td>0.27</td>\n",
              "      <td>-0.73</td>\n",
              "      <td>0.021</td>\n",
              "    </tr>\n",
              "  </tbody>\n",
              "</table>\n",
              "<p>15270 rows × 6 columns</p>\n",
              "</div>\n",
              "    <div class=\"colab-df-buttons\">\n",
              "\n",
              "  <div class=\"colab-df-container\">\n",
              "    <button class=\"colab-df-convert\" onclick=\"convertToInteractive('df-7373947e-97ff-4b06-ba70-fa50d9fc2c61')\"\n",
              "            title=\"Convert this dataframe to an interactive table.\"\n",
              "            style=\"display:none;\">\n",
              "\n",
              "  <svg xmlns=\"http://www.w3.org/2000/svg\" height=\"24px\" viewBox=\"0 -960 960 960\">\n",
              "    <path d=\"M120-120v-720h720v720H120Zm60-500h600v-160H180v160Zm220 220h160v-160H400v160Zm0 220h160v-160H400v160ZM180-400h160v-160H180v160Zm440 0h160v-160H620v160ZM180-180h160v-160H180v160Zm440 0h160v-160H620v160Z\"/>\n",
              "  </svg>\n",
              "    </button>\n",
              "\n",
              "  <style>\n",
              "    .colab-df-container {\n",
              "      display:flex;\n",
              "      gap: 12px;\n",
              "    }\n",
              "\n",
              "    .colab-df-convert {\n",
              "      background-color: #E8F0FE;\n",
              "      border: none;\n",
              "      border-radius: 50%;\n",
              "      cursor: pointer;\n",
              "      display: none;\n",
              "      fill: #1967D2;\n",
              "      height: 32px;\n",
              "      padding: 0 0 0 0;\n",
              "      width: 32px;\n",
              "    }\n",
              "\n",
              "    .colab-df-convert:hover {\n",
              "      background-color: #E2EBFA;\n",
              "      box-shadow: 0px 1px 2px rgba(60, 64, 67, 0.3), 0px 1px 3px 1px rgba(60, 64, 67, 0.15);\n",
              "      fill: #174EA6;\n",
              "    }\n",
              "\n",
              "    .colab-df-buttons div {\n",
              "      margin-bottom: 4px;\n",
              "    }\n",
              "\n",
              "    [theme=dark] .colab-df-convert {\n",
              "      background-color: #3B4455;\n",
              "      fill: #D2E3FC;\n",
              "    }\n",
              "\n",
              "    [theme=dark] .colab-df-convert:hover {\n",
              "      background-color: #434B5C;\n",
              "      box-shadow: 0px 1px 3px 1px rgba(0, 0, 0, 0.15);\n",
              "      filter: drop-shadow(0px 1px 2px rgba(0, 0, 0, 0.3));\n",
              "      fill: #FFFFFF;\n",
              "    }\n",
              "  </style>\n",
              "\n",
              "    <script>\n",
              "      const buttonEl =\n",
              "        document.querySelector('#df-7373947e-97ff-4b06-ba70-fa50d9fc2c61 button.colab-df-convert');\n",
              "      buttonEl.style.display =\n",
              "        google.colab.kernel.accessAllowed ? 'block' : 'none';\n",
              "\n",
              "      async function convertToInteractive(key) {\n",
              "        const element = document.querySelector('#df-7373947e-97ff-4b06-ba70-fa50d9fc2c61');\n",
              "        const dataTable =\n",
              "          await google.colab.kernel.invokeFunction('convertToInteractive',\n",
              "                                                    [key], {});\n",
              "        if (!dataTable) return;\n",
              "\n",
              "        const docLinkHtml = 'Like what you see? Visit the ' +\n",
              "          '<a target=\"_blank\" href=https://colab.research.google.com/notebooks/data_table.ipynb>data table notebook</a>'\n",
              "          + ' to learn more about interactive tables.';\n",
              "        element.innerHTML = '';\n",
              "        dataTable['output_type'] = 'display_data';\n",
              "        await google.colab.output.renderOutput(dataTable, element);\n",
              "        const docLink = document.createElement('div');\n",
              "        docLink.innerHTML = docLinkHtml;\n",
              "        element.appendChild(docLink);\n",
              "      }\n",
              "    </script>\n",
              "  </div>\n",
              "\n",
              "\n",
              "<div id=\"df-0e679bb7-7ee4-4fac-89f8-f5fd4291414f\">\n",
              "  <button class=\"colab-df-quickchart\" onclick=\"quickchart('df-0e679bb7-7ee4-4fac-89f8-f5fd4291414f')\"\n",
              "            title=\"Suggest charts\"\n",
              "            style=\"display:none;\">\n",
              "\n",
              "<svg xmlns=\"http://www.w3.org/2000/svg\" height=\"24px\"viewBox=\"0 0 24 24\"\n",
              "     width=\"24px\">\n",
              "    <g>\n",
              "        <path d=\"M19 3H5c-1.1 0-2 .9-2 2v14c0 1.1.9 2 2 2h14c1.1 0 2-.9 2-2V5c0-1.1-.9-2-2-2zM9 17H7v-7h2v7zm4 0h-2V7h2v10zm4 0h-2v-4h2v4z\"/>\n",
              "    </g>\n",
              "</svg>\n",
              "  </button>\n",
              "\n",
              "<style>\n",
              "  .colab-df-quickchart {\n",
              "      --bg-color: #E8F0FE;\n",
              "      --fill-color: #1967D2;\n",
              "      --hover-bg-color: #E2EBFA;\n",
              "      --hover-fill-color: #174EA6;\n",
              "      --disabled-fill-color: #AAA;\n",
              "      --disabled-bg-color: #DDD;\n",
              "  }\n",
              "\n",
              "  [theme=dark] .colab-df-quickchart {\n",
              "      --bg-color: #3B4455;\n",
              "      --fill-color: #D2E3FC;\n",
              "      --hover-bg-color: #434B5C;\n",
              "      --hover-fill-color: #FFFFFF;\n",
              "      --disabled-bg-color: #3B4455;\n",
              "      --disabled-fill-color: #666;\n",
              "  }\n",
              "\n",
              "  .colab-df-quickchart {\n",
              "    background-color: var(--bg-color);\n",
              "    border: none;\n",
              "    border-radius: 50%;\n",
              "    cursor: pointer;\n",
              "    display: none;\n",
              "    fill: var(--fill-color);\n",
              "    height: 32px;\n",
              "    padding: 0;\n",
              "    width: 32px;\n",
              "  }\n",
              "\n",
              "  .colab-df-quickchart:hover {\n",
              "    background-color: var(--hover-bg-color);\n",
              "    box-shadow: 0 1px 2px rgba(60, 64, 67, 0.3), 0 1px 3px 1px rgba(60, 64, 67, 0.15);\n",
              "    fill: var(--button-hover-fill-color);\n",
              "  }\n",
              "\n",
              "  .colab-df-quickchart-complete:disabled,\n",
              "  .colab-df-quickchart-complete:disabled:hover {\n",
              "    background-color: var(--disabled-bg-color);\n",
              "    fill: var(--disabled-fill-color);\n",
              "    box-shadow: none;\n",
              "  }\n",
              "\n",
              "  .colab-df-spinner {\n",
              "    border: 2px solid var(--fill-color);\n",
              "    border-color: transparent;\n",
              "    border-bottom-color: var(--fill-color);\n",
              "    animation:\n",
              "      spin 1s steps(1) infinite;\n",
              "  }\n",
              "\n",
              "  @keyframes spin {\n",
              "    0% {\n",
              "      border-color: transparent;\n",
              "      border-bottom-color: var(--fill-color);\n",
              "      border-left-color: var(--fill-color);\n",
              "    }\n",
              "    20% {\n",
              "      border-color: transparent;\n",
              "      border-left-color: var(--fill-color);\n",
              "      border-top-color: var(--fill-color);\n",
              "    }\n",
              "    30% {\n",
              "      border-color: transparent;\n",
              "      border-left-color: var(--fill-color);\n",
              "      border-top-color: var(--fill-color);\n",
              "      border-right-color: var(--fill-color);\n",
              "    }\n",
              "    40% {\n",
              "      border-color: transparent;\n",
              "      border-right-color: var(--fill-color);\n",
              "      border-top-color: var(--fill-color);\n",
              "    }\n",
              "    60% {\n",
              "      border-color: transparent;\n",
              "      border-right-color: var(--fill-color);\n",
              "    }\n",
              "    80% {\n",
              "      border-color: transparent;\n",
              "      border-right-color: var(--fill-color);\n",
              "      border-bottom-color: var(--fill-color);\n",
              "    }\n",
              "    90% {\n",
              "      border-color: transparent;\n",
              "      border-bottom-color: var(--fill-color);\n",
              "    }\n",
              "  }\n",
              "</style>\n",
              "\n",
              "  <script>\n",
              "    async function quickchart(key) {\n",
              "      const quickchartButtonEl =\n",
              "        document.querySelector('#' + key + ' button');\n",
              "      quickchartButtonEl.disabled = true;  // To prevent multiple clicks.\n",
              "      quickchartButtonEl.classList.add('colab-df-spinner');\n",
              "      try {\n",
              "        const charts = await google.colab.kernel.invokeFunction(\n",
              "            'suggestCharts', [key], {});\n",
              "      } catch (error) {\n",
              "        console.error('Error during call to suggestCharts:', error);\n",
              "      }\n",
              "      quickchartButtonEl.classList.remove('colab-df-spinner');\n",
              "      quickchartButtonEl.classList.add('colab-df-quickchart-complete');\n",
              "    }\n",
              "    (() => {\n",
              "      let quickchartButtonEl =\n",
              "        document.querySelector('#df-0e679bb7-7ee4-4fac-89f8-f5fd4291414f button');\n",
              "      quickchartButtonEl.style.display =\n",
              "        google.colab.kernel.accessAllowed ? 'block' : 'none';\n",
              "    })();\n",
              "  </script>\n",
              "</div>\n",
              "\n",
              "  <div id=\"id_de0c41e6-9afc-47e4-aea1-9a14f026bcea\">\n",
              "    <style>\n",
              "      .colab-df-generate {\n",
              "        background-color: #E8F0FE;\n",
              "        border: none;\n",
              "        border-radius: 50%;\n",
              "        cursor: pointer;\n",
              "        display: none;\n",
              "        fill: #1967D2;\n",
              "        height: 32px;\n",
              "        padding: 0 0 0 0;\n",
              "        width: 32px;\n",
              "      }\n",
              "\n",
              "      .colab-df-generate:hover {\n",
              "        background-color: #E2EBFA;\n",
              "        box-shadow: 0px 1px 2px rgba(60, 64, 67, 0.3), 0px 1px 3px 1px rgba(60, 64, 67, 0.15);\n",
              "        fill: #174EA6;\n",
              "      }\n",
              "\n",
              "      [theme=dark] .colab-df-generate {\n",
              "        background-color: #3B4455;\n",
              "        fill: #D2E3FC;\n",
              "      }\n",
              "\n",
              "      [theme=dark] .colab-df-generate:hover {\n",
              "        background-color: #434B5C;\n",
              "        box-shadow: 0px 1px 3px 1px rgba(0, 0, 0, 0.15);\n",
              "        filter: drop-shadow(0px 1px 2px rgba(0, 0, 0, 0.3));\n",
              "        fill: #FFFFFF;\n",
              "      }\n",
              "    </style>\n",
              "    <button class=\"colab-df-generate\" onclick=\"generateWithVariable('factors')\"\n",
              "            title=\"Generate code using this dataframe.\"\n",
              "            style=\"display:none;\">\n",
              "\n",
              "  <svg xmlns=\"http://www.w3.org/2000/svg\" height=\"24px\"viewBox=\"0 0 24 24\"\n",
              "       width=\"24px\">\n",
              "    <path d=\"M7,19H8.4L18.45,9,17,7.55,7,17.6ZM5,21V16.75L18.45,3.32a2,2,0,0,1,2.83,0l1.4,1.43a1.91,1.91,0,0,1,.58,1.4,1.91,1.91,0,0,1-.58,1.4L9.25,21ZM18.45,9,17,7.55Zm-12,3A5.31,5.31,0,0,0,4.9,8.1,5.31,5.31,0,0,0,1,6.5,5.31,5.31,0,0,0,4.9,4.9,5.31,5.31,0,0,0,6.5,1,5.31,5.31,0,0,0,8.1,4.9,5.31,5.31,0,0,0,12,6.5,5.46,5.46,0,0,0,6.5,12Z\"/>\n",
              "  </svg>\n",
              "    </button>\n",
              "    <script>\n",
              "      (() => {\n",
              "      const buttonEl =\n",
              "        document.querySelector('#id_de0c41e6-9afc-47e4-aea1-9a14f026bcea button.colab-df-generate');\n",
              "      buttonEl.style.display =\n",
              "        google.colab.kernel.accessAllowed ? 'block' : 'none';\n",
              "\n",
              "      buttonEl.onclick = () => {\n",
              "        google.colab.notebook.generateWithVariable('factors');\n",
              "      }\n",
              "      })();\n",
              "    </script>\n",
              "  </div>\n",
              "\n",
              "    </div>\n",
              "  </div>\n"
            ],
            "application/vnd.google.colaboratory.intrinsic+json": {
              "type": "dataframe",
              "variable_name": "factors",
              "summary": "{\n  \"name\": \"factors\",\n  \"rows\": 15270,\n  \"fields\": [\n    {\n      \"column\": \"Market\",\n      \"properties\": {\n        \"dtype\": \"number\",\n        \"std\": 1.0217493514983726,\n        \"min\": -17.44,\n        \"max\": 11.35,\n        \"num_unique_values\": 768,\n        \"samples\": [\n          4.21,\n          1.1,\n          2.36\n        ],\n        \"semantic_type\": \"\",\n        \"description\": \"\"\n      }\n    },\n    {\n      \"column\": \"SMB\",\n      \"properties\": {\n        \"dtype\": \"number\",\n        \"std\": 0.5463170569474849,\n        \"min\": -11.19,\n        \"max\": 6.17,\n        \"num_unique_values\": 450,\n        \"samples\": [\n          1.73,\n          1.89,\n          0.57\n        ],\n        \"semantic_type\": \"\",\n        \"description\": \"\"\n      }\n    },\n    {\n      \"column\": \"HML\",\n      \"properties\": {\n        \"dtype\": \"number\",\n        \"std\": 0.5832719151009541,\n        \"min\": -5.02,\n        \"max\": 6.73,\n        \"num_unique_values\": 531,\n        \"samples\": [\n          2.13,\n          0.0,\n          -1.29\n        ],\n        \"semantic_type\": \"\",\n        \"description\": \"\"\n      }\n    },\n    {\n      \"column\": \"RMW\",\n      \"properties\": {\n        \"dtype\": \"number\",\n        \"std\": 0.4004488050123291,\n        \"min\": -3.01,\n        \"max\": 4.51,\n        \"num_unique_values\": 388,\n        \"samples\": [\n          1.24,\n          -0.21,\n          -0.7\n        ],\n        \"semantic_type\": \"\",\n        \"description\": \"\"\n      }\n    },\n    {\n      \"column\": \"CMA\",\n      \"properties\": {\n        \"dtype\": \"number\",\n        \"std\": 0.378900327752303,\n        \"min\": -5.87,\n        \"max\": 2.53,\n        \"num_unique_values\": 359,\n        \"samples\": [\n          -0.89,\n          -0.44,\n          -1.4\n        ],\n        \"semantic_type\": \"\",\n        \"description\": \"\"\n      }\n    },\n    {\n      \"column\": \"RF\",\n      \"properties\": {\n        \"dtype\": \"number\",\n        \"std\": 0.012554755902814805,\n        \"min\": 0.0,\n        \"max\": 0.061,\n        \"num_unique_values\": 58,\n        \"samples\": [\n          0.012,\n          0.016,\n          0.059\n        ],\n        \"semantic_type\": \"\",\n        \"description\": \"\"\n      }\n    }\n  ]\n}"
            }
          },
          "metadata": {},
          "execution_count": 213
        }
      ]
    },
    {
      "cell_type": "code",
      "source": [
        "plt.figure()\n",
        "factors.plot()\n",
        "plt.title('Daily Factor Data')\n",
        "plt.xlabel('Date')\n",
        "plt.ylabel('Magnitude')\n",
        "plt.grid(True)\n",
        "plt.show()"
      ],
      "metadata": {
        "colab": {
          "base_uri": "https://localhost:8080/",
          "height": 462
        },
        "id": "G8yf0v08wmSR",
        "outputId": "14b6e1e1-9cd5-4393-ca78-175ca01db954"
      },
      "execution_count": 214,
      "outputs": [
        {
          "output_type": "display_data",
          "data": {
            "text/plain": [
              "<Figure size 640x480 with 0 Axes>"
            ]
          },
          "metadata": {}
        },
        {
          "output_type": "display_data",
          "data": {
            "text/plain": [
              "<Figure size 640x480 with 1 Axes>"
            ],
            "image/png": "[encoded data removed]"
          },
          "metadata": {}
        }
      ]
    },
    {
      "cell_type": "markdown",
      "source": [
        "## Step 3: Getting Stock ETF and Mutual Fund Data\n",
        "\n",
        "We will use the yfinance library to download historical stock prices. Replace 'AAPL' with the ticker symbol of the ETF or mutual fund you are interested in."
      ],
      "metadata": {
        "id": "mIbGGryVwdOp"
      }
    },
    {
      "cell_type": "code",
      "source": [
        "# Get today's date\n",
        "from datetime import date\n",
        "\n",
        "today = date.today()\n",
        "today_formatted_date = today.strftime('%Y-%m-%d')\n",
        "print(today_formatted_date)"
      ],
      "metadata": {
        "colab": {
          "base_uri": "https://localhost:8080/"
        },
        "id": "VJST2-dM65YN",
        "outputId": "8bc62186-10f6-4d03-d629-de7b9bccba68"
      },
      "execution_count": 215,
      "outputs": [
        {
          "output_type": "stream",
          "name": "stdout",
          "text": [
            "2024-04-10\n"
          ]
        }
      ]
    },
    {
      "cell_type": "code",
      "source": [
        "ticker = 'DFSVX'\n",
        "start_date = '1990-01-01'\n",
        "end_date = today_formatted_date"
      ],
      "metadata": {
        "id": "lOxipkZ7zoGP"
      },
      "execution_count": 216,
      "outputs": []
    },
    {
      "cell_type": "code",
      "source": [
        "def get_stock_data(ticker, start_date, end_date):\n",
        "    stock_data = yf.download(ticker, start=start_date, end=end_date)\n",
        "    return stock_data['Adj Close']\n",
        "\n",
        "stock_data = get_stock_data(ticker, start_date, end_date)"
      ],
      "metadata": {
        "colab": {
          "base_uri": "https://localhost:8080/"
        },
        "id": "i5s7P319wPtJ",
        "outputId": "71dd2a07-dcb6-4656-f6c9-c9167fc6b58d"
      },
      "execution_count": 217,
      "outputs": [
        {
          "output_type": "stream",
          "name": "stderr",
          "text": [
            "\r[*********************100%%**********************]  1 of 1 completed\n"
          ]
        }
      ]
    },
    {
      "cell_type": "markdown",
      "source": [
        "Note: This tutorial uses the adjusted close price, which is the closing price of the ticker after adjustments for all applicable splits and dividend distributions. Data is adjusted using appropriate split and dividend multipliers, adhering to Center for Research in Security Prices (CRSP) standards.\n",
        "\n",
        "Source: https://help.yahoo.com/kb/SLN28256.html"
      ],
      "metadata": {
        "id": "W_lI-6MF7NP5"
      }
    },
    {
      "cell_type": "code",
      "source": [
        "first_date = stock_data.index[0].date().strftime('%m-%d-%Y')\n",
        "last_date = stock_data.index[-1].date().strftime('%m-%d-%Y')\n",
        "\n",
        "print(ticker + ' stock data from ' + first_date + ' to ' + last_date + '.')"
      ],
      "metadata": {
        "colab": {
          "base_uri": "https://localhost:8080/"
        },
        "id": "apgBYj-f02u_",
        "outputId": "15257c70-dfc3-40dc-e8ed-e3a54ce431ff"
      },
      "execution_count": 218,
      "outputs": [
        {
          "output_type": "stream",
          "name": "stdout",
          "text": [
            "DFSVX stock data from 02-26-1993 to 04-09-2024.\n"
          ]
        }
      ]
    },
    {
      "cell_type": "code",
      "source": [
        "plt.figure()\n",
        "stock_data.plot()\n",
        "plt.title(ticker + ' Price History from ' + first_date + ' to ' + last_date)\n",
        "plt.ylabel('Adjusted Price ($)')\n",
        "plt.grid(True)\n",
        "plt.show()"
      ],
      "metadata": {
        "colab": {
          "base_uri": "https://localhost:8080/",
          "height": 444
        },
        "id": "LCxVLlIOzhnQ",
        "outputId": "2aca4fb6-cbba-40e2-b32c-57bfa95defb2"
      },
      "execution_count": 219,
      "outputs": [
        {
          "output_type": "display_data",
          "data": {
            "text/plain": [
              "<Figure size 640x480 with 1 Axes>"
            ],
            "image/png": "[encoded data removed]"
          },
          "metadata": {}
        }
      ]
    },
    {
      "cell_type": "markdown",
      "source": [
        "## Step 4: Preparing the Data\n",
        "\n",
        "Before running the regression, we need to prepare our data. This includes aligning the dates of the stock data and the factor data, and calculating excess returns (stock returns minus the risk-free rate)."
      ],
      "metadata": {
        "id": "lGjZHmXrxOvC"
      }
    },
    {
      "cell_type": "code",
      "source": [
        "excess_returns = stock_data.pct_change().dropna() - factors['RF']\n",
        "aligned_data = pd.concat([excess_returns, factors], axis=1, join='inner').dropna()"
      ],
      "metadata": {
        "id": "VXTpTt7TxMOK"
      },
      "execution_count": 220,
      "outputs": []
    },
    {
      "cell_type": "markdown",
      "source": [
        "# Step 5: Running the Regression\n",
        "\n",
        "We use the statsmodels library to run the regression, using the market factor, SMB, HML, RMW, and CMA as independent variables, and the stock's excess returns as the dependent variable."
      ],
      "metadata": {
        "id": "1GhILugvyiwW"
      }
    },
    {
      "cell_type": "markdown",
      "source": [
        "Th block of code below performs a linear regression analysis using the Fama-French five-factor model on a dataset that includes the excess returns of a stock (or ETF, mutual fund, etc.) and the Fama-French factors. Here’s a step-by-step breakdown of what each part does:\n",
        "\n",
        "1. **Selecting the Dependent and Independent Variables:**\n",
        "   - `Y = aligned_data.iloc[:, 0]`: This line selects the first column of `aligned_data`, which contains the excess returns of the stock. Excess returns are the returns of the stock minus the risk-free rate. This is set as the dependent variable `Y` for the regression analysis. The dependent variable is what you are trying to predict or explain.\n",
        "   - `X = aligned_data.iloc[:, 1:-1]`: This line selects all columns from the second to the second-to-last of `aligned_data`, excluding the last one (`RF`, the risk-free rate) since it was already used to calculate excess returns. These columns represent the independent variables in the Fama-French five-factor model, namely: Market Risk Premium (`Market`), Small Minus Big (`SMB`), High Minus Low (`HML`), Robust Minus Weak (`RMW`), and Conservative Minus Aggressive (`CMA`). These independent variables are the factors that are hypothesized to explain the variability in stock returns.\n",
        "\n",
        "2. **Adding a Constant to the Model:**\n",
        "   - `X = sm.add_constant(X)`: This line adds a column of ones to the `X` DataFrame, effectively adding a constant term to the regression model. This is important because it allows the regression model to include an intercept term. Without this constant, the regression line would be forced to pass through the origin (0,0), which is not desired in most cases.\n",
        "\n",
        "3. **Creating and Fitting the Regression Model:**\n",
        "   - `model = sm.OLS(Y, X).fit()`: This line creates a linear regression model using Ordinary Least Squares (OLS) with `Y` as the dependent variable and `X` as the independent variables (including the constant term). The `.fit()` method is then called to fit the model to the data. This process involves finding the coefficients (also known as parameters or betas) that minimize the sum of the squared differences between the observed values and the values predicted by the linear model.\n",
        "\n",
        "4. **Outputting the Model Summary:**\n",
        "   - `print(model.summary())`: This line prints a summary of the regression model to the console. The summary includes several important pieces of information, such as the regression coefficients for each independent variable (which indicate the strength and direction of the relationship between each factor and the stock returns), the R-squared value (which measures the proportion of the variance in the dependent variable that is predictable from the independent variables), and various statistical tests and values that can help assess the quality and validity of the model.\n",
        "\n",
        "In summary, this code is used to understand how well the Fama-French five-factor model explains the returns of a specific stock (or ETF, mutual fund, etc.) by analyzing the relationship between the stock's excess returns and the five factors. It helps in identifying which factors are significant predictors of the stock's returns and how strong these relationships are."
      ],
      "metadata": {
        "id": "iIoGCUooD9sX"
      }
    },
    {
      "cell_type": "code",
      "source": [
        "Y = aligned_data.iloc[:, 0]  # Excess returns of the stock\n",
        "X = aligned_data.iloc[:, 1:-1]  # Independent factors excluding RF\n",
        "X = sm.add_constant(X)  # Adds a constant term to the predictor\n",
        "\n",
        "model = sm.OLS(Y, X).fit()\n",
        "print(model.summary())"
      ],
      "metadata": {
        "colab": {
          "base_uri": "https://localhost:8080/"
        },
        "id": "6H25fPvKyezW",
        "outputId": "afc31b11-5ba5-49ef-e321-2637f8ccc017"
      },
      "execution_count": 221,
      "outputs": [
        {
          "output_type": "stream",
          "name": "stdout",
          "text": [
            "                            OLS Regression Results                            \n",
            "==============================================================================\n",
            "Dep. Variable:                      y   R-squared:                       0.707\n",
            "Model:                            OLS   Adj. R-squared:                  0.707\n",
            "Method:                 Least Squares   F-statistic:                     3760.\n",
            "Date:                Wed, 10 Apr 2024   Prob (F-statistic):               0.00\n",
            "Time:                        03:37:39   Log-Likelihood:                 25933.\n",
            "No. Observations:                7807   AIC:                        -5.185e+04\n",
            "Df Residuals:                    7801   BIC:                        -5.181e+04\n",
            "Df Model:                           5                                         \n",
            "Covariance Type:            nonrobust                                         \n",
            "==============================================================================\n",
            "                 coef    std err          t      P>|t|      [0.025      0.975]\n",
            "------------------------------------------------------------------------------\n",
            "const         -0.0090   9.91e-05    -91.138      0.000      -0.009      -0.009\n",
            "Market         0.0100   9.41e-05    106.682      0.000       0.010       0.010\n",
            "SMB            0.0092      0.000     53.988      0.000       0.009       0.010\n",
            "HML            0.0039      0.000     23.786      0.000       0.004       0.004\n",
            "RMW            0.0013      0.000      5.790      0.000       0.001       0.002\n",
            "CMA            0.0007      0.000      2.622      0.009       0.000       0.001\n",
            "==============================================================================\n",
            "Omnibus:                     1019.491   Durbin-Watson:                   0.269\n",
            "Prob(Omnibus):                  0.000   Jarque-Bera (JB):            10866.605\n",
            "Skew:                          -0.218   Prob(JB):                         0.00\n",
            "Kurtosis:                       8.763   Cond. No.                         3.72\n",
            "==============================================================================\n",
            "\n",
            "Notes:\n",
            "[1] Standard Errors assume that the covariance matrix of the errors is correctly specified.\n"
          ]
        }
      ]
    },
    {
      "cell_type": "markdown",
      "source": [
        "Comparison with Portfolio Visualizer's factor regression: https://www.portfoliovisualizer.com/factor-analysis?s=y&sl=50BSmAW0sOxUksJp0Q60I9\n",
        "\n",
        "See the Portfolio Visualizer's Methodology section for more information on computing factor regressions: https://www.portfoliovisualizer.com/faq#"
      ],
      "metadata": {
        "id": "--NYo9tI9s27"
      }
    },
    {
      "cell_type": "markdown",
      "source": [
        "# Step 6: Plotting the Results\n",
        "\n",
        "We can plot the factor sensitivities (betas) to visually analyze the impact of each factor on the stock's returns."
      ],
      "metadata": {
        "id": "etytBfd2ywrY"
      }
    },
    {
      "cell_type": "code",
      "source": [
        "betas = model.params[1:]  # Exclude the constant\n",
        "betas.plot(kind='bar')\n",
        "plt.title(ticker + ' Factor Sensitivities (Betas)')\n",
        "plt.ylabel('Factor Sensitivities')\n",
        "plt.xlabel('Factor Betas')\n",
        "plt.grid(True)\n",
        "plt.show()"
      ],
      "metadata": {
        "colab": {
          "base_uri": "https://localhost:8080/",
          "height": 506
        },
        "id": "IWzZ7EICynQj",
        "outputId": "a3322530-5fe1-4e90-8ae0-13d0c898d295"
      },
      "execution_count": 222,
      "outputs": [
        {
          "output_type": "display_data",
          "data": {
            "text/plain": [
              "<Figure size 640x480 with 1 Axes>"
            ],
            "image/png": "[encoded data removed]"
          },
          "metadata": {}
        }
      ]
    },
    {
      "cell_type": "markdown",
      "source": [
        "# Conclusion\n",
        "\n",
        "This concludes our tutorial on computing the Fama-French five-factor model regressions for stock ETFs and mutual funds using Python. By following these steps, you can analyze the impact of different risk factors on the returns of any stock, ETF, or mutual fund."
      ],
      "metadata": {
        "id": "O9YBKFFEzNmV"
      }
    }
  ]
}